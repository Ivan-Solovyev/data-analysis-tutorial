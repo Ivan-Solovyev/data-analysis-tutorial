{
 "cells": [
  {
   "cell_type": "code",
   "execution_count": 4,
   "metadata": {},
   "outputs": [],
   "source": [
    "import ROOT\n",
    "import ostap.fixes.fixes\n",
    "from ostap.core.core import cpp, Ostap\n",
    "from ostap.core.core import pwd, cwd, ROOTCWD\n",
    "from ostap.core.core import rootID, funcID, funID, fID, histoID, hID, dsID\n",
    "from ostap.core.core import VE, SE, WSE\n",
    "from ostap.core.core import binomEff, binomEff2, zechEff, wilsonEff, agrestiCoullEff\n",
    "from ostap.core.core import iszero, isequal, isint, islong, natural_entry"
   ]
  },
  {
   "cell_type": "code",
   "execution_count": 6,
   "metadata": {},
   "outputs": [
    {
     "name": "stdout",
     "output_type": "stream",
     "text": [
      "( 0.1 +- 0.0948683 )\n",
      "( 0.1 +- 0.0948683 )\n",
      "( 0.1 +- 0.0948683 )\n",
      "( 0.136364 +- 0.0974891 )\n",
      "( 0.136364 +- 0.103471 )\n"
     ]
    }
   ],
   "source": [
    "acc = VE(1,1)\n",
    "rej = VE(9,9)\n",
    "print( binomEff2( acc, rej) )\n",
    "print( binomEff(1,10) )\n",
    "print( zechEff( acc, acc+rej) )\n",
    "print( wilsonEff(1,10) )\n",
    "print( agrestiCoullEff(1,10) )\n",
    "for s in dir(ostap.core.core):\n",
    "    if \"eff\" in s:\n",
    "        print( str(s) )"
   ]
  },
  {
   "cell_type": "code",
   "execution_count": 7,
   "metadata": {},
   "outputs": [],
   "source": [
    "from ostap.histos.histos import binomEff_h1, binomEff_h2, binomEff_h3\n",
    "from ostap.histos.histos import h1_axis, h2_axes, h3_axes\n",
    "from ostap.histos.histos import axis_bins, ve_adjust, histoGuess\n",
    "from ostap.histos.graphs import makeGraph, hToGraph, hToGraph2, hToGraph3, lw_graph\n",
    "import ostap.trees.trees\n",
    "import ostap.trees.cuts\n",
    "import ostap.histos.param\n",
    "import ostap.histos.compare\n",
    "import ostap.io.root_file\n",
    "import ostap.math.models\n",
    "import ostap.utils.hepdata \n",
    "import ostap.utils.pdg_format \n",
    "import ostap.plotting.canvas\n",
    "import ostap.fitting.minuit \n",
    "import ostap.plotting.draw_attributes"
   ]
  },
  {
   "cell_type": "code",
   "execution_count": 10,
   "metadata": {},
   "outputs": [
    {
     "name": "stdout",
     "output_type": "stream",
     "text": [
      "TFile**\t\ttest_file.root\t\n",
      " TFile*\t\ttest_file.root\t\n",
      "  KEY: RooDataSet\tds_k;1\tOstap.Selectors/ds_1000 \n",
      "  KEY: TProcessID\tProcessID0;1\t4de99c20-f0e9-11e9-ba22-e368b8bcbeef\n",
      "  KEY: RooDataSet\tds_pi;1\tOstap.Selectors/ds_1000 \n"
     ]
    }
   ],
   "source": [
    "rfile = ROOT.TFile(\"test_file.root\",\"READ\")\n",
    "rfile.ls()\n",
    "ds = rfile[\"ds_k\"]"
   ]
  },
  {
   "cell_type": "code",
   "execution_count": 11,
   "metadata": {},
   "outputs": [
    {
     "data": {
      "image/png": "[encoded data removed]",
      "text/plain": [
       "<IPython.core.display.Image object>"
      ]
     },
     "metadata": {},
     "output_type": "display_data"
    }
   ],
   "source": [
    "canv = ROOT.TCanvas(\"canv\",\"canv\",900,450)\n",
    "ds.draw(\"im\")\n",
    "canv.Draw()"
   ]
  },
  {
   "cell_type": "code",
   "execution_count": 12,
   "metadata": {},
   "outputs": [
    {
     "name": "stderr",
     "output_type": "stream",
     "text": [
      "Info in <TCanvas::Print>: png file TEMP.png has been created\n"
     ]
    }
   ],
   "source": [
    "canv.Print(\"TEMP.png\")"
   ]
  },
  {
   "cell_type": "code",
   "execution_count": 16,
   "metadata": {},
   "outputs": [],
   "source": [
    "bins = [0,1,2,3,4,5,6,7,8,9,10]\n",
    "h = h1_axis(bins)"
   ]
  },
  {
   "cell_type": "code",
   "execution_count": null,
   "metadata": {},
   "outputs": [],
   "source": []
  }
 ],
 "metadata": {
  "kernelspec": {
   "display_name": "Python 3",
   "language": "python",
   "name": "python3"
  },
  "language_info": {
   "codemirror_mode": {
    "name": "ipython",
    "version": 3
   },
   "file_extension": ".py",
   "mimetype": "text/x-python",
   "name": "python",
   "nbconvert_exporter": "python",
   "pygments_lexer": "ipython3",
   "version": "3.8.3"
  }
 },
 "nbformat": 4,
 "nbformat_minor": 4
}
