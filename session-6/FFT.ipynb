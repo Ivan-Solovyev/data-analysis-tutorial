{
 "cells": [
  {
   "cell_type": "code",
   "execution_count": 1,
   "metadata": {},
   "outputs": [
    {
     "name": "stdout",
     "output_type": "stream",
     "text": [
      "Welcome to JupyROOT 6.20/06\n"
     ]
    }
   ],
   "source": [
    "import ROOT\n",
    "import ostap.fixes.fixes\n",
    "from ostap.core.core import cpp, Ostap\n",
    "from ostap.core.core import pwd, cwd, ROOTCWD\n",
    "from ostap.core.core import rootID, funcID, funID, fID, histoID, hID, dsID\n",
    "from ostap.core.core import VE\n",
    "from ostap.histos.histos import h1_axis, h2_axes, h3_axes\n",
    "from ostap.histos.graphs import makeGraph, hToGraph, hToGraph2, hToGraph3, lw_graph\n",
    "import ostap.trees.trees\n",
    "import ostap.trees.cuts\n",
    "import ostap.histos.param\n",
    "import ostap.histos.compare\n",
    "import ostap.io.root_file\n",
    "import ostap.math.models\n",
    "import ostap.fitting.roofit \n",
    "import ostap.fitting.models as Models\n",
    "canv = ROOT.TCanvas(\"canv\",\"canv\",900,450)"
   ]
  },
  {
   "cell_type": "code",
   "execution_count": 2,
   "metadata": {},
   "outputs": [],
   "source": [
    "import numpy as np\n",
    "from   scipy.fftpack import  fft,  ifft\n",
    "from   scipy.fftpack import rfft, irfft\n",
    "from   scipy.stats   import norm, chi2, beta\n",
    "from math import pow, sqrt, atan, pi"
   ]
  },
  {
   "cell_type": "code",
   "execution_count": 3,
   "metadata": {},
   "outputs": [],
   "source": [
    "N_EVENTS       = 10\n",
    "N_CHANNELS     = 2692\n",
    "BAN_LEVEL      = 65"
   ]
  },
  {
   "cell_type": "code",
   "execution_count": 4,
   "metadata": {},
   "outputs": [],
   "source": [
    "dumpfile = open(\"dump.txt\",\"r\")\n",
    "max_diff  = []\n",
    "down_diff = []\n",
    "ban_list  = []\n",
    "ev_num    = 0\n",
    "for line in dumpfile:\n",
    "    value_str_list = (line[:-1]).split(\",\")\n",
    "    value_list = []\n",
    "    for idx in range(N_CHANNELS):\n",
    "        value_list.append( float( value_str_list[idx] ) )\n",
    "    max_level = max( sum(value_list)/len(value_list) - min(value_list) ,\n",
    "                    max(value_list) - sum(value_list)/len(value_list) )\n",
    "    max_diff .append ( max_level )\n",
    "    if  sum(value_list)/len(value_list) - min(value_list) > max(value_list) - sum(value_list)/len(value_list)   :\n",
    "        down_diff.append ( sum(value_list)/len(value_list) - min(value_list)  )\n",
    "    if max_level > BAN_LEVEL:\n",
    "        ban_list.append( ev_num )\n",
    "    ev_num = ev_num + 1\n",
    "dumpfile.close()"
   ]
  },
  {
   "cell_type": "code",
   "execution_count": 5,
   "metadata": {},
   "outputs": [],
   "source": [
    "dumpfile = open(\"dump.txt\",\"r\")\n",
    "ev_num = 0\n",
    "dataset = []\n",
    "events = 0\n",
    "for line in dumpfile:\n",
    "    if ev_num not in ban_list :\n",
    "        value_str_list = (line[:-1]).split(\",\")\n",
    "        value_list = []\n",
    "        for idx in range(N_CHANNELS):\n",
    "            value_list.append( float( value_str_list[idx] ) )\n",
    "        dataset .append( np.array( value_list ) )\n",
    "        events   = events + 1\n",
    "    ev_num = ev_num + 1\n",
    "dumpfile.close()"
   ]
  },
  {
   "cell_type": "code",
   "execution_count": 6,
   "metadata": {},
   "outputs": [
    {
     "name": "stdout",
     "output_type": "stream",
     "text": [
      "Performing fast Fourier transformation\n"
     ]
    }
   ],
   "source": [
    "fftset  = []\n",
    "print(\"Performing fast Fourier transformation\")\n",
    "for event in dataset:\n",
    "    fftset .append(  fft( event ) )"
   ]
  },
  {
   "cell_type": "code",
   "execution_count": 33,
   "metadata": {},
   "outputs": [
    {
     "data": {
      "image/png": "[encoded data removed]",
      "text/plain": [
       "<IPython.core.display.Image object>"
      ]
     },
     "metadata": {},
     "output_type": "display_data"
    }
   ],
   "source": [
    "ch=[]\n",
    "vl=[]\n",
    "idx = 0\n",
    "EVENT_NUM = 5\n",
    "for val in dataset[EVENT_NUM]:\n",
    "    ch.append( 20. + 40.*idx )\n",
    "    vl.append( val )\n",
    "    idx += 1\n",
    "gr = makeGraph(ch,vl)\n",
    "gr.SetTitle(\"EVENT #\" + str(EVENT_NUM))\n",
    "gr.GetXaxis().SetTitle(\"time, ns\")\n",
    "gr.GetXaxis().SetRangeUser(0,20000)\n",
    "gr.GetYaxis().SetTitle(\"voltage, a.u.\")\n",
    "gr.Draw(\"AL\")\n",
    "canv.Draw()"
   ]
  },
  {
   "cell_type": "code",
   "execution_count": 20,
   "metadata": {},
   "outputs": [
    {
     "name": "stdout",
     "output_type": "stream",
     "text": [
      "mean  = 1.9481316999414537\n",
      "stdev = 1.0062767389433034\n"
     ]
    }
   ],
   "source": [
    "datos = []\n",
    "for evt_fft in fftset :\n",
    "    datos.append( np.abs( evt_fft[16] ) / N_CHANNELS )\n",
    "import statistics as stat\n",
    "print(\"mean  = \" + str(stat.mean(datos)))\n",
    "print(\"stdev = \" + str(stat.stdev(datos)))"
   ]
  },
  {
   "cell_type": "code",
   "execution_count": 22,
   "metadata": {},
   "outputs": [
    {
     "name": "stderr",
     "output_type": "stream",
     "text": [
      "Warning in <TROOT::Append>: Replacing existing TH1: h_abs (Potential memory leak).\n"
     ]
    },
    {
     "data": {
      "image/png": "[encoded data removed]",
      "text/plain": [
       "<IPython.core.display.Image object>"
      ]
     },
     "metadata": {},
     "output_type": "display_data"
    }
   ],
   "source": [
    "LEN_DRAW = 100\n",
    "h_abs = ROOT.TH1F(\"h_abs\",\";freq.ch;average abs value\",LEN_DRAW,0.5,LEN_DRAW+0.5)\n",
    "for chan in range(1,LEN_DRAW+1):\n",
    "    datos = []\n",
    "    for evt_fft in fftset :\n",
    "        datos.append( np.abs( evt_fft[chan] ) /N_CHANNELS )\n",
    "    h_abs[chan] = VE ( stat.mean(datos), stat.stdev(datos)**2 )\n",
    "h_abs.Draw()\n",
    "canv.Draw()"
   ]
  },
  {
   "cell_type": "code",
   "execution_count": 31,
   "metadata": {},
   "outputs": [
    {
     "data": {
      "text/plain": [
       "27860.326894502225"
      ]
     },
     "execution_count": 31,
     "metadata": {},
     "output_type": "execute_result"
    }
   ],
   "source": [
    "1./(len(dataset[5])*40.*1e-9/3.)\n",
    "#LEN_DRAW = 100\n",
    "#h_abs2 = ROOT.TH1F(\"h_abs\",\";freq., Hz;average abs value\",LEN_DRAW,0.5,LEN_DRAW+0.5)\n",
    "#for chan in range(1,LEN_DRAW+1):\n",
    "#    datos = []\n",
    "#    for evt_fft in fftset :\n",
    "#        datos.append( np.abs( evt_fft[chan] ) /N_CHANNELS )\n",
    "#    h_abs2[chan] = VE ( stat.mean(datos), stat.stdev(datos)**2 )\n",
    "#h_abs2.Draw()\n",
    "#canv.Draw()"
   ]
  },
  {
   "cell_type": "code",
   "execution_count": 48,
   "metadata": {},
   "outputs": [
    {
     "data": {
      "image/png": "[encoded data removed]",
      "text/plain": [
       "<IPython.core.display.Image object>"
      ]
     },
     "metadata": {},
     "output_type": "display_data"
    }
   ],
   "source": [
    "fh=[]\n",
    "fq=[]\n",
    "idx = 0\n",
    "CUT=300\n",
    "EVENT_NUM = 5\n",
    "for val in fftset[EVENT_NUM]:\n",
    "    if idx<CUT or idx>(len(dataset[5])-CUT):\n",
    "        fh.append( 0.001/(len(dataset[EVENT_NUM])*40.*1e-9)*idx )\n",
    "        fq.append( val )\n",
    "    else:\n",
    "        fq.append(0.)\n",
    "    idx += 1\n",
    "val = ifft(np.array(fq))\n",
    "gf = makeGraph(ch,list(val))\n",
    "gf.GetXaxis().SetRangeUser(0,20000)\n",
    "gf.SetLineColor(2)\n",
    "gf.Draw(\"AL\")\n",
    "gr.Draw(\"same L\")\n",
    "canv.Draw()"
   ]
  },
  {
   "cell_type": "code",
   "execution_count": null,
   "metadata": {},
   "outputs": [],
   "source": []
  }
 ],
 "metadata": {
  "kernelspec": {
   "display_name": "Python 3",
   "language": "python",
   "name": "python3"
  },
  "language_info": {
   "codemirror_mode": {
    "name": "ipython",
    "version": 3
   },
   "file_extension": ".py",
   "mimetype": "text/x-python",
   "name": "python",
   "nbconvert_exporter": "python",
   "pygments_lexer": "ipython3",
   "version": "3.8.5"
  }
 },
 "nbformat": 4,
 "nbformat_minor": 4
}
