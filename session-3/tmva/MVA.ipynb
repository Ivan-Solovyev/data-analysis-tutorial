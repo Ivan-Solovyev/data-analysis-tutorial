{
 "cells": [
  {
   "cell_type": "code",
   "execution_count": 1,
   "metadata": {},
   "outputs": [
    {
     "name": "stdout",
     "output_type": "stream",
     "text": [
      "Welcome to JupyROOT 6.20/06\n"
     ]
    }
   ],
   "source": [
    "import ROOT\n",
    "import ostap.fixes.fixes\n",
    "from ostap.core.core import cpp, Ostap\n",
    "from ostap.core.core import pwd, cwd, ROOTCWD\n",
    "from ostap.core.core import rootID, funcID, funID, fID, histoID, hID, dsID\n",
    "from ostap.core.core import VE\n",
    "from ostap.histos.histos import h1_axis, h2_axes, h3_axes\n",
    "from ostap.histos.graphs import makeGraph, hToGraph, hToGraph2, hToGraph3, lw_graph\n",
    "import ostap.trees.trees\n",
    "import ostap.trees.cuts\n",
    "import ostap.histos.param\n",
    "import ostap.histos.compare\n",
    "import ostap.io.root_file\n",
    "import ostap.math.models\n",
    "import ostap.fitting.roofit \n",
    "import ostap.fitting.models as Models"
   ]
  },
  {
   "cell_type": "code",
   "execution_count": 8,
   "metadata": {},
   "outputs": [
    {
     "name": "stdout",
     "output_type": "stream",
     "text": [
      "TFile**\t\tsig.root\t\n",
      " TFile*\t\tsig.root\t\n",
      "  KEY: TTree\ttreeS;1\ttreeS\n"
     ]
    }
   ],
   "source": [
    "sig_file = ROOT.TFile(\"sig.root\",\"READ\")\n",
    "bkg_file = ROOT.TFile(\"bkg.root\",\"READ\")\n",
    "mix_file = ROOT.TFile(\"mix.root\",\"READ\")\n",
    "sig_file.ls()"
   ]
  },
  {
   "cell_type": "code",
   "execution_count": 9,
   "metadata": {},
   "outputs": [],
   "source": [
    "tSig = sig_file.treeS\n",
    "tBkg = bkg_file.treeB\n",
    "tMix = mix_file.treeM"
   ]
  },
  {
   "cell_type": "code",
   "execution_count": 10,
   "metadata": {},
   "outputs": [
    {
     "name": "stderr",
     "output_type": "stream",
     "text": [
      "Warning in <TCanvas::Constructor>: Deleting canvas with same name: canv\n"
     ]
    },
    {
     "data": {
      "image/png": "[encoded data removed]",
      "text/plain": [
       "<IPython.core.display.Image object>"
      ]
     },
     "metadata": {},
     "output_type": "display_data"
    }
   ],
   "source": [
    "canv = ROOT.TCanvas(\"canv\",\"canv\",800,400)\n",
    "tSig.draw(\"vx\")\n",
    "tBkg.draw(\"vx\",\"\",\"same\")\n",
    "canv.Draw()"
   ]
  },
  {
   "cell_type": "code",
   "execution_count": 14,
   "metadata": {},
   "outputs": [],
   "source": [
    "from ostap.tools.tmva import Trainer , Reader"
   ]
  },
  {
   "cell_type": "code",
   "execution_count": 29,
   "metadata": {},
   "outputs": [
    {
     "name": "stderr",
     "output_type": "stream",
     "text": [
      "# ostap.tools.tmva                 INFO    Trainer(TestTMVA):         variables: ('vx', 'vy')\n",
      "# ostap.tools.tmva                 INFO    Trainer(TestTMVA): Configuration    :``nTrain_Signal=0:nTrain_Background=0:SplitMode=Random:NormMode=NumEvents''\n",
      "# ostap.tools.tmva                 INFO    Trainer(TestTMVA): Train    all methods ('MLP', 'BDTG', 'Cuts', 'Fisher', 'Likelihood') \n",
      "# ostap.tools.tmva                 INFO    Trainer(TestTMVA): Test     all methods ('MLP', 'BDTG', 'Cuts', 'Fisher', 'Likelihood') \n",
      "# ostap.tools.tmva                 INFO    Trainer(TestTMVA): Evaluate all methods ('MLP', 'BDTG', 'Cuts', 'Fisher', 'Likelihood') \n",
      "# ostap.tools.tmva                 INFO    Trainer(TestTMVA):      variables: ('vx', 'vy')\n",
      "# ostap.tools.tmva                 INFO    Trainer(TestTMVA): Weights files : ('TestTMVA/weights/TestTMVA_BDTG.weights.xml', 'TestTMVA/weights/TestTMVA_MLP.weights.xml', 'TestTMVA/weights/TestTMVA_Fisher.weights.xml', 'TestTMVA/weights/TestTMVA_Cuts.weights.xml', 'TestTMVA/weights/TestTMVA_Likelihood.weights.xml')\n",
      "# ostap.tools.tmva                 INFO    Trainer(TestTMVA): Output  file  : TestTMVA.root\n",
      "# ostap.tools.tmva                 INFO    Trainer(TestTMVA): Log     file  : TestTMVA.log\n",
      "# ostap.tools.tmva                 INFO    Trainer(TestTMVA): Tar     file  : TestTMVA.tgz\n",
      "# ostap.tools.tmva                 INFO    Making the standard TMVA plots\n"
     ]
    },
    {
     "data": {
      "image/png": "[encoded data removed]",
      "text/plain": [
       "<IPython.core.display.Image object>"
      ]
     },
     "metadata": {},
     "output_type": "display_data"
    }
   ],
   "source": [
    "trainer = Trainer (\n",
    "   name    = 'TestTMVA' ,   \n",
    "   methods = [\n",
    "   # type                   name   configuration\n",
    "   ( ROOT.TMVA.Types.kMLP        , 'MLP'        , 'H:!V:EstimatorType=CE:VarTransform=N:NCycles=200:HiddenLayers=N+3:TestRate=5:!UseRegulator' ) ,\n",
    "   ( ROOT.TMVA.Types.kBDT        , 'BDTG'       , 'H:!V:NTrees=100:MinNodeSize=2.5%:BoostType=Grad:Shrinkage=0.10:UseBaggedBoost:BaggedSampleFraction=0.5:nCuts=20:MaxDepth=2' ) ,\n",
    "   ( ROOT.TMVA.Types.kCuts       , 'Cuts'       , 'H:!V:FitMethod=MC:EffSel:SampleSize=200000:VarProp=FSmart' ) ,\n",
    "   ( ROOT.TMVA.Types.kFisher     , 'Fisher'     , 'H:!V:Fisher:VarTransform=None:CreateMVAPdfs:PDFInterpolMVAPdf=Spline2:NbinsMVAPdf=50:NsmoothMVAPdf=10' ),\n",
    "   ( ROOT.TMVA.Types.kLikelihood , 'Likelihood' , 'H:!V:TransformOutput:PDFInterpol=Spline2:NSmoothSig[0]=20:NSmoothBkg[0]=20:NSmoothBkg[1]=10:NSmooth=1:NAvEvtPerBin=50' )\n",
    "   ] ,\n",
    "   variables  = [ 'vx' , 'vy' ] , ## Variables to be used for training \n",
    "   signal     = tSig                       , ## ``Signal'' sample \n",
    "   background = tBkg                       , ## ``Background'' sample  \n",
    "   verbose    = False )\n",
    "weights_files = trainer.train ()"
   ]
  },
  {
   "cell_type": "code",
   "execution_count": 31,
   "metadata": {},
   "outputs": [
    {
     "name": "stderr",
     "output_type": "stream",
     "text": [
      "# ostap.tools.tmva                 INFO    TMVA Reader(MyCut) booked methods are ('BDTG', 'MLP', 'Fisher', 'Cuts', 'Likelihood')\n"
     ]
    },
    {
     "name": "stdout",
     "output_type": "stream",
     "text": [
      "create data set info Default\n"
     ]
    }
   ],
   "source": [
    "reader = Reader( \n",
    "   'MyCut' ,\n",
    "   variables     = [ ('vx' , lambda s : s.vx )   ,\n",
    "                     ('vy' , lambda s : s.vy )   ] ,\n",
    "  weights_files = trainer.tar_file  )"
   ]
  },
  {
   "cell_type": "code",
   "execution_count": 37,
   "metadata": {},
   "outputs": [
    {
     "name": "stderr",
     "output_type": "stream",
     "text": [
      "Warning in <TCanvas::Constructor>: Deleting canvas with same name: canv2\n",
      "Warning in <TROOT::Append>: Replacing existing TH1: h_bdt (Potential memory leak).\n",
      "Warning in <TROOT::Append>: Replacing existing TH1: h_mlp (Potential memory leak).\n"
     ]
    },
    {
     "data": {
      "image/png": "[encoded data removed]",
      "text/plain": [
       "<IPython.core.display.Image object>"
      ]
     },
     "metadata": {},
     "output_type": "display_data"
    }
   ],
   "source": [
    "canv2 = ROOT.TCanvas(\"canv2\",\"canv2\",800,400)\n",
    "h_bdt = ROOT.TH1F(\"h_bdt\",\"\",100,-1,1)\n",
    "h_bdt.red()\n",
    "h_mlp = ROOT.TH1F(\"h_mlp\",\"\",100,-1,1)\n",
    "bdt  = reader['BDTG']                     ## get  one method\n",
    "mlp  = reader['MLP']                     ## get  one method\n",
    "for ev in tMix :                          ## loop over the entries \n",
    "    h_bdt.Fill(bdt(ev))\n",
    "    h_mlp.Fill(mlp(ev))\n",
    "h_bdt.Draw()\n",
    "h_mlp.Draw(\"same\")\n",
    "#print(tMix)\n",
    "#tMix.draw(\"vx\")\n",
    "canv2.Draw()"
   ]
  },
  {
   "cell_type": "code",
   "execution_count": 63,
   "metadata": {},
   "outputs": [
    {
     "name": "stdout",
     "output_type": "stream",
     "text": [
      "2000\n",
      "Ok             904\n",
      "False positive 131\n",
      "False negative 96\n",
      "GOOD bkg       869\n"
     ]
    }
   ],
   "source": [
    "mlp_cut = 0.55\n",
    "ok = 0\n",
    "fn = 0\n",
    "fp=0\n",
    "bg=0\n",
    "ii=0\n",
    "for ev in tMix :                          ## loop over the entries \n",
    "    ii+=1\n",
    "    if mlp(ev)>mlp_cut:\n",
    "        if ev.tr>0.5:\n",
    "            ok+=1\n",
    "        else:\n",
    "            fp+=1\n",
    "    else:\n",
    "        if ev.tr>0.5:\n",
    "            fn+=1\n",
    "        else:\n",
    "            bg+=1\n",
    "print(ii)\n",
    "print(\"Ok             \" + str(ok))\n",
    "print(\"False positive \" + str(fp))\n",
    "print(\"False negative \" + str(fn))\n",
    "print(\"GOOD bkg       \" + str(bg))"
   ]
  },
  {
   "cell_type": "code",
   "execution_count": null,
   "metadata": {},
   "outputs": [],
   "source": []
  },
  {
   "cell_type": "code",
   "execution_count": null,
   "metadata": {},
   "outputs": [],
   "source": []
  }
 ],
 "metadata": {
  "kernelspec": {
   "display_name": "Python 3",
   "language": "python",
   "name": "python3"
  },
  "language_info": {
   "codemirror_mode": {
    "name": "ipython",
    "version": 3
   },
   "file_extension": ".py",
   "mimetype": "text/x-python",
   "name": "python",
   "nbconvert_exporter": "python",
   "pygments_lexer": "ipython3",
   "version": "3.8.3"
  }
 },
 "nbformat": 4,
 "nbformat_minor": 4
}
